{
 "cells": [
  {
   "cell_type": "code",
   "execution_count": 12,
   "id": "initial_id",
   "metadata": {
    "collapsed": true,
    "ExecuteTime": {
     "end_time": "2024-02-29T09:25:00.968371Z",
     "start_time": "2024-02-29T09:25:00.960574Z"
    }
   },
   "outputs": [
    {
     "name": "stdout",
     "output_type": "stream",
     "text": [
      "Exercise: 1\n",
      "The result is a float value (floating point number), as its in decimal form and between two integers\n"
     ]
    }
   ],
   "source": [
    "import math\n",
    "print (\"Exercise: 1\")\n",
    "\n",
    "math.sqrt(17)\n",
    "text = \"The result is a float value (floating point number), as its in decimal form and between two integers\"\n",
    "print (text)"
   ]
  },
  {
   "cell_type": "code",
   "execution_count": 13,
   "outputs": [
    {
     "name": "stdout",
     "output_type": "stream",
     "text": [
      "Exercise: 2\n",
      "You will receive a type error as you are trying to add a integer with a string. Hence the var types are not the same\n"
     ]
    }
   ],
   "source": [
    "print (\"Exercise: 2\")\n",
    "\n",
    "text = \"You will receive a type error as you are trying to add a integer with a string. Hence the var types are not the same\"\n",
    "print (text)"
   ],
   "metadata": {
    "collapsed": false,
    "ExecuteTime": {
     "end_time": "2024-02-29T09:25:00.987088Z",
     "start_time": "2024-02-29T09:25:00.965467Z"
    }
   },
   "id": "3a369f37d9a9e5fb"
  },
  {
   "cell_type": "code",
   "execution_count": 17,
   "outputs": [
    {
     "name": "stdout",
     "output_type": "stream",
     "text": [
      "Exercise: 3\n",
      "12.0\n",
      "The type is float value as python will always create float values when integers are divided using /\n"
     ]
    }
   ],
   "source": [
    "print (\"Exercise: 3\")\n",
    "\n",
    "calc = (2 ** 3 / 2 + 8)\n",
    "print (calc)\n",
    "text = \"The type is float value as python will always create float values when integers are divided using /\"\n",
    "print (text)"
   ],
   "metadata": {
    "collapsed": false,
    "ExecuteTime": {
     "end_time": "2024-02-29T09:26:32.926824Z",
     "start_time": "2024-02-29T09:26:32.924287Z"
    }
   },
   "id": "450709f7992c9876"
  },
  {
   "cell_type": "code",
   "execution_count": 19,
   "outputs": [
    {
     "name": "stdout",
     "output_type": "stream",
     "text": [
      "Exercise: 4\n",
      "81 plus 23 equals 104\n"
     ]
    }
   ],
   "source": [
    "print (\"Exercise: 4\")\n",
    "\n",
    "x = 81\n",
    "y = 23\n",
    "\n",
    "calc = f'{x} plus {y} equals {x + y}'\n",
    "print (calc)\n"
   ],
   "metadata": {
    "collapsed": false,
    "ExecuteTime": {
     "end_time": "2024-02-29T09:28:47.132610Z",
     "start_time": "2024-02-29T09:28:47.128341Z"
    }
   },
   "id": "8d82ab2791e6a35f"
  },
  {
   "cell_type": "code",
   "execution_count": 20,
   "outputs": [
    {
     "name": "stdout",
     "output_type": "stream",
     "text": [
      "Exercise: 5\n",
      "81 divided by 23 equals 3 with a remainder of 12\n"
     ]
    }
   ],
   "source": [
    "print (\"Exercise: 5\")\n",
    "\n",
    "x = 81\n",
    "y = 23\n",
    "calc = f'{x} divided by {y} equals {x // y} with a remainder of {x % y}'\n",
    "print (calc)"
   ],
   "metadata": {
    "collapsed": false,
    "ExecuteTime": {
     "end_time": "2024-02-29T09:29:45.914490Z",
     "start_time": "2024-02-29T09:29:45.903514Z"
    }
   },
   "id": "68ffa5e797bbce83"
  },
  {
   "cell_type": "code",
   "execution_count": 21,
   "outputs": [
    {
     "name": "stdout",
     "output_type": "stream",
     "text": [
      "Exercise: 6\n",
      "Dictionaries are mutable, allowing thisgs to be added, changed etc.. even after they are created\n"
     ]
    }
   ],
   "source": [
    "print (\"Exercise: 6\")\n",
    "\n",
    "text = \"Dictionaries are mutable, allowing thisgs to be added, changed etc.. even after they are created\"\n",
    "print (text)"
   ],
   "metadata": {
    "collapsed": false,
    "ExecuteTime": {
     "end_time": "2024-02-29T09:30:42.148044Z",
     "start_time": "2024-02-29T09:30:42.143816Z"
    }
   },
   "id": "4a89f755fd918e43"
  },
  {
   "cell_type": "code",
   "execution_count": 28,
   "outputs": [
    {
     "name": "stdout",
     "output_type": "stream",
     "text": [
      "Exercise: 7\n",
      "termites. on mainly feeds that mammal African nocturnal black-striped a.\n"
     ]
    }
   ],
   "source": [
    "import re\n",
    "print (\"Exercise: 7\")\n",
    "\n",
    "my_dictionary = {\n",
    "    'aardvark': 'a nocturnal badger-sized burrowing mammal of Africa, with long ears, a tubular snout, and a long extensible tongue, feeding on ants and termites.',\n",
    "    'aardwolf': 'a black-striped nocturnal African mammal that feeds mainly on termites.',\n",
    "    'abaca': 'a large herbaceous Asian plant of the banana family, yielding Manila hemp.',\n",
    "}\n",
    "\n",
    "description = my_dictionary['aardwolf']\n",
    "words = description.split()\n",
    "words_reversed = words[::-1]\n",
    "\n",
    "\n",
    "print(' ' .join(words_reversed) + '.')\n"
   ],
   "metadata": {
    "collapsed": false,
    "ExecuteTime": {
     "end_time": "2024-02-29T09:38:52.209649Z",
     "start_time": "2024-02-29T09:38:52.204110Z"
    }
   },
   "id": "1dd2aa7605425cb9"
  },
  {
   "cell_type": "code",
   "execution_count": 29,
   "outputs": [
    {
     "name": "stdout",
     "output_type": "stream",
     "text": [
      "Exercise: 8\n",
      "24\n"
     ]
    }
   ],
   "source": [
    "print (\"Exercise: 8\")\n",
    "\n",
    "new_list = {1, 2, 5 , 6 , 10}\n",
    "calc = sum(new_list)\n",
    "\n",
    "print (calc)\n"
   ],
   "metadata": {
    "collapsed": false,
    "ExecuteTime": {
     "end_time": "2024-02-29T09:39:56.648806Z",
     "start_time": "2024-02-29T09:39:56.639377Z"
    }
   },
   "id": "6e7252457f1ec585"
  },
  {
   "cell_type": "code",
   "execution_count": 30,
   "outputs": [
    {
     "name": "stdout",
     "output_type": "stream",
     "text": [
      "Exercise: 9\n",
      "1307674368000\n"
     ]
    }
   ],
   "source": [
    "print (\"Exercise: 9\")\n",
    "n = 15\n",
    "factorial = 1\n",
    "\n",
    "while n > 0:\n",
    "    factorial *= n  \n",
    "    n -= 1  \n",
    "\n",
    "print (factorial)"
   ],
   "metadata": {
    "collapsed": false,
    "ExecuteTime": {
     "end_time": "2024-02-29T09:45:40.062908Z",
     "start_time": "2024-02-29T09:45:40.045792Z"
    }
   },
   "id": "b8b3a50ef0ef9d93"
  },
  {
   "cell_type": "code",
   "execution_count": 34,
   "outputs": [
    {
     "name": "stdout",
     "output_type": "stream",
     "text": [
      "Exercise: 10\n",
      "0\n",
      "15\n",
      "21\n",
      "30\n",
      "42\n",
      "45\n",
      "60\n",
      "63\n",
      "75\n",
      "84\n",
      "90\n"
     ]
    }
   ],
   "source": [
    "print (\"Exercise: 10\")\n",
    "\n",
    "i = 0\n",
    "while i <= 100:\n",
    "    if i % 3 == 0 :\n",
    "        if i % 5 == 0 or i % 7 == 0 :\n",
    "            print (i)\n",
    "    i += 1  "
   ],
   "metadata": {
    "collapsed": false,
    "ExecuteTime": {
     "end_time": "2024-02-29T09:51:54.880070Z",
     "start_time": "2024-02-29T09:51:54.874255Z"
    }
   },
   "id": "6a9bcb9479ec0e62"
  },
  {
   "cell_type": "code",
   "execution_count": 35,
   "outputs": [
    {
     "name": "stdout",
     "output_type": "stream",
     "text": [
      "Exercise: 11\n",
      "True\n"
     ]
    }
   ],
   "source": [
    "print (\"Exercise: 11\")\n",
    "\n",
    "number_to_check = 12829\n",
    "\n",
    "def is_number_prime(n):\n",
    "    if n < 2:\n",
    "        return False\n",
    "    \n",
    "    for i in range(2, int(n ** 0.5) + 1):\n",
    "        if n % i == 0:\n",
    "            return False\n",
    "        \n",
    "    return True\n",
    "\n",
    "print (is_number_prime(number_to_check))\n",
    "    \n",
    "\n",
    "    \n"
   ],
   "metadata": {
    "collapsed": false,
    "ExecuteTime": {
     "end_time": "2024-02-29T09:56:17.654643Z",
     "start_time": "2024-02-29T09:56:17.649884Z"
    }
   },
   "id": "29bec656a10f9ee7"
  },
  {
   "cell_type": "code",
   "execution_count": 36,
   "outputs": [
    {
     "name": "stdout",
     "output_type": "stream",
     "text": [
      "Exercise: 11\n",
      "84\n"
     ]
    }
   ],
   "source": [
    "print (\"Exercise: 12\")\n",
    "\n",
    "def inner_prod(list1, list2):        \n",
    "    product = sum(a * b for a, b in zip(list1, list2))\n",
    "    return product\n",
    "\n",
    "list1 = [3, 6, 9]\n",
    "list2 = [2, 4, 6]\n",
    "\n",
    "print (inner_prod(list1, list2))\n",
    "\n"
   ],
   "metadata": {
    "collapsed": false,
    "ExecuteTime": {
     "end_time": "2024-02-29T10:08:02.808803Z",
     "start_time": "2024-02-29T10:08:02.791429Z"
    }
   },
   "id": "acb8bdae65510faa"
  },
  {
   "cell_type": "code",
   "execution_count": 37,
   "outputs": [
    {
     "name": "stdout",
     "output_type": "stream",
     "text": [
      "Exercise: 13\n",
      "[2, 4, 6]\n"
     ]
    }
   ],
   "source": [
    "print (\"Exercise: 13\")\n",
    "\n",
    "def unique_order(lst):\n",
    "    unique_list = []\n",
    "    for item in lst:\n",
    "        if item not in unique_list:\n",
    "            unique_list.append(item)\n",
    "    return unique_list\n",
    "\n",
    "list2 = [2, 4, 6, 4]\n",
    "\n",
    "print (unique_order(list2))\n",
    "\n"
   ],
   "metadata": {
    "collapsed": false,
    "ExecuteTime": {
     "end_time": "2024-02-29T10:12:11.713637Z",
     "start_time": "2024-02-29T10:12:11.713051Z"
    }
   },
   "id": "59ebc921b73c85ee"
  },
  {
   "cell_type": "code",
   "execution_count": 38,
   "outputs": [
    {
     "name": "stdout",
     "output_type": "stream",
     "text": [
      "Exercise: 14\n",
      "(314.1592653589793, 62.83185307179586)\n"
     ]
    }
   ],
   "source": [
    "print (\"Exercise: 14\")\n",
    "\n",
    "import math \n",
    "def circle_properties(radius):\n",
    "    surface_area = math.pi * radius ** 2\n",
    "    circumference = 2 * math.pi * radius\n",
    "    return surface_area, circumference\n",
    "\n",
    "print (circle_properties(10))"
   ],
   "metadata": {
    "collapsed": false,
    "ExecuteTime": {
     "end_time": "2024-02-29T10:13:22.099440Z",
     "start_time": "2024-02-29T10:13:22.086594Z"
    }
   },
   "id": "aadc71eea7e7a38a"
  },
  {
   "cell_type": "code",
   "execution_count": null,
   "outputs": [],
   "source": [
    "print (\"Exercise: 15\")\n",
    "\n",
    "def same_letters(str1, str2):\n",
    "    set1 = set(str1)\n",
    "    set2 = set(str2)\n",
    "    return bool(set1 & set2)\n"
   ],
   "metadata": {
    "collapsed": false
   },
   "id": "d1aa140173d1552"
  },
  {
   "cell_type": "code",
   "execution_count": 39,
   "outputs": [
    {
     "name": "stdout",
     "output_type": "stream",
     "text": [
      "Exercise: 16\n"
     ]
    }
   ],
   "source": [
    "print (\"Exercise: 16\")\n",
    "# from teh previouse exercise\n",
    "\n",
    "def is_number_prime(n):\n",
    "    if n < 2:\n",
    "        return False\n",
    "    \n",
    "    for i in range(2, int(n ** 0.5) + 1):\n",
    "        if n % i == 0:\n",
    "            return False\n",
    "        \n",
    "    return True"
   ],
   "metadata": {
    "collapsed": false,
    "ExecuteTime": {
     "end_time": "2024-02-29T10:15:47.525133Z",
     "start_time": "2024-02-29T10:15:47.498990Z"
    }
   },
   "id": "529a58adf5642a8c"
  },
  {
   "cell_type": "code",
   "execution_count": 40,
   "outputs": [
    {
     "name": "stdout",
     "output_type": "stream",
     "text": [
      "Exercise: 17\n",
      "[2, 3, 5, 7]\n"
     ]
    }
   ],
   "source": [
    "print (\"Exercise: 17\")\n",
    "\n",
    "def is_number_prime(n):\n",
    "    if n < 2:\n",
    "        return False\n",
    "    \n",
    "    for i in range(2, int(n ** 0.5) + 1):\n",
    "        if n % i == 0:\n",
    "            return False\n",
    "        \n",
    "    return True\n",
    "\n",
    "def primes_smaller_than_N(N):\n",
    "    primes = []\n",
    "    for n in range(2, N):  # Start from 2, the smallest prime number\n",
    "        if is_number_prime(n):\n",
    "            primes.append(n)\n",
    "    return primes\n",
    "\n",
    "N = 10\n",
    "print(primes_smaller_than_N(N))\n"
   ],
   "metadata": {
    "collapsed": false,
    "ExecuteTime": {
     "end_time": "2024-02-29T10:17:22.806902Z",
     "start_time": "2024-02-29T10:17:22.798825Z"
    }
   },
   "id": "9c5298b70dd6901"
  },
  {
   "cell_type": "code",
   "execution_count": null,
   "outputs": [],
   "source": [
    "print (\"Exercise: 18\")\n",
    "\n",
    "class Point:\n",
    "    def __init__(self, x, y):\n",
    "        self.x = x\n",
    "        self.y = y"
   ],
   "metadata": {
    "collapsed": false
   },
   "id": "d3c96c0f915829be"
  },
  {
   "cell_type": "code",
   "execution_count": 42,
   "outputs": [
    {
     "name": "stdout",
     "output_type": "stream",
     "text": [
      "Exercise: 19 and 20\n",
      "7 6\n"
     ]
    }
   ],
   "source": [
    "print (\"Exercise: 19 and 20\")\n",
    "\n",
    "class Translation:\n",
    "    def __init__(self, dx, dy):\n",
    "        self.dx = dx\n",
    "        self.dy = dy\n",
    "\n",
    "    def transform(self, point):\n",
    "        # Translate the given point by dx and dy\n",
    "        point.x += self.dx\n",
    "        point.y += self.dy\n",
    "        \n",
    "class Point:\n",
    "    def __init__(self, x, y):\n",
    "        self.x = x\n",
    "        self.y = y\n",
    "        \n",
    "point = Point(3, 4)\n",
    "translation = Translation(4, 2)\n",
    "translation.transform(point)\n",
    "\n",
    "print (point.x, point.y)\n",
    "\n"
   ],
   "metadata": {
    "collapsed": false,
    "ExecuteTime": {
     "end_time": "2024-02-29T10:28:03.018772Z",
     "start_time": "2024-02-29T10:28:03.007873Z"
    }
   },
   "id": "8eb526337244164b"
  },
  {
   "cell_type": "code",
   "execution_count": null,
   "outputs": [],
   "source": [],
   "metadata": {
    "collapsed": false
   },
   "id": "1f64584e700e3f65"
  }
 ],
 "metadata": {
  "kernelspec": {
   "display_name": "Python 3",
   "language": "python",
   "name": "python3"
  },
  "language_info": {
   "codemirror_mode": {
    "name": "ipython",
    "version": 2
   },
   "file_extension": ".py",
   "mimetype": "text/x-python",
   "name": "python",
   "nbconvert_exporter": "python",
   "pygments_lexer": "ipython2",
   "version": "2.7.6"
  }
 },
 "nbformat": 4,
 "nbformat_minor": 5
}
